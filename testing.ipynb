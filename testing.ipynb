{
  "cells": [
    {
      "cell_type": "markdown",
      "metadata": {},
      "source": [
        "# Pengujian Model Apple Quality dengan TensorFlow Serving dan Web Interface\n",
        "\n",
        "Notebook ini digunakan untuk menguji model klasifikasi kualitas apel yang telah di-deploy menggunakan TensorFlow Serving dan FastAPI pada Railway. Model ini dapat memprediksi apakah kualitas apel \"good\" atau \"bad\" berdasarkan fitur-fitur seperti ukuran, berat, tingkat kemanisan, kerenyahan, kejusan, kematangan, dan keasaman.\n",
        "\n",
        "## Alur Pengujian\n",
        "\n",
        "1. **Pengujian Web Interface**: \n",
        "   - Mengakses aplikasi web pada domain Railway\n",
        "   - Menggunakan form untuk mengirim input karakteristik apel\n",
        "   - Melihat hasil prediksi secara visual\n",
        "\n",
        "2. **Pengujian API Endpoint**:\n",
        "   - Melakukan preprocessing data\n",
        "   - Mengirim permintaan ke endpoint API\n",
        "   - Menganalisis respons JSON\n",
        "\n",
        "3. **Pengujian TensorFlow Serving Langsung**:\n",
        "   - Mengirim data ke TensorFlow Serving melalui REST API\n",
        "   - Menerima hasil prediksi dalam format JSON\n",
        "   - Menginterpretasikan hasil prediksi\n",
        "\n",
        "## Cara Akses Web Interface\n",
        "\n",
        "Aplikasi web dapat diakses melalui URL berikut:\n",
        "```\n",
        "https://apple-quality-model-kstarid.up.railway.app/\n",
        "```\n",
        "\n",
        "## Catatan Penting\n",
        "\n",
        "- Pastikan model sudah ter-deploy dengan benar ke Railway\n",
        "- Struktur direktori model harus sesuai dengan yang diharapkan oleh TensorFlow Serving\n",
        "- Preprocessing data harus konsisten dengan yang digunakan saat training\n"
      ]
    },
    {
      "cell_type": "raw",
      "metadata": {
        "vscode": {
          "languageId": "raw"
        }
      },
      "source": [
        "## 1. Pengujian Web API (FastAPI)\n"
      ]
    },
    {
      "cell_type": "code",
      "execution_count": null,
      "metadata": {},
      "outputs": [],
      "source": [
        "# Fungsi untuk melakukan prediksi menggunakan API endpoint\n",
        "def predict_quality_api(data):\n",
        "    print(\"=== PENGUJIAN DENGAN FASTAPI ENDPOINT ===\")\n",
        "    \n",
        "    # Step 1: Persiapkan data\n",
        "    print(\"\\n1. Data yang Dikirim:\")\n",
        "    print(json.dumps(data, indent=2))\n",
        "    \n",
        "    # Step 2: Kirim request ke API\n",
        "    print(\"\\n2. Mengirim Request ke API:\")\n",
        "    print(f\"URL: {API_URL}\")\n",
        "    response = requests.post(API_URL, json=data)\n",
        "    print(f\"Status Code: {response.status_code}\")\n",
        "    \n",
        "    # Step 3: Parse response\n",
        "    print(\"\\n3. Response dari API:\")\n",
        "    print(f\"Response Raw: {response.text}\")\n",
        "    \n",
        "    try:\n",
        "        result = response.json()\n",
        "        print(f\"Response JSON: {json.dumps(result, indent=2)}\")\n",
        "        \n",
        "        # Step 4: Interpretasi hasil\n",
        "        print(\"\\n4. Interpretasi Hasil:\")\n",
        "        print(f\"Label: {result['prediction']} (Probability: {result['probability']:.4f})\")\n",
        "        return result\n",
        "    except Exception as e:\n",
        "        print(f\"Error: {e}\")\n",
        "        return None\n"
      ]
    },
    {
      "cell_type": "code",
      "execution_count": null,
      "metadata": {},
      "outputs": [],
      "source": [
        "# Contoh data apel berkualitas baik\n",
        "good_apple = {\n",
        "    \"A_id\": 1,\n",
        "    \"Size\": 0.8,\n",
        "    \"Weight\": 0.7,\n",
        "    \"Sweetness\": 0.9, \n",
        "    \"Crunchiness\": 0.8,\n",
        "    \"Juiciness\": 0.9,\n",
        "    \"Ripeness\": 0.7,\n",
        "    \"Acidity\": 0.5\n",
        "}\n",
        "\n",
        "# Contoh data apel berkualitas buruk\n",
        "bad_apple = {\n",
        "    \"A_id\": 2,\n",
        "    \"Size\": 0.3,\n",
        "    \"Weight\": 0.2,\n",
        "    \"Sweetness\": 0.2, \n",
        "    \"Crunchiness\": 0.3,\n",
        "    \"Juiciness\": 0.1,\n",
        "    \"Ripeness\": 0.4,\n",
        "    \"Acidity\": 0.8\n",
        "}\n",
        "\n",
        "# Uji dengan data apel berkualitas baik\n",
        "print(\"\\n==== TEST APEL BERKUALITAS BAIK ====\\n\")\n",
        "good_result = predict_quality_api(good_apple)\n"
      ]
    },
    {
      "cell_type": "code",
      "execution_count": null,
      "metadata": {},
      "outputs": [],
      "source": [
        "# Uji dengan data apel berkualitas buruk\n",
        "print(\"\\n==== TEST APEL BERKUALITAS BURUK ====\\n\")\n",
        "bad_result = predict_quality_api(bad_apple)\n"
      ]
    },
    {
      "cell_type": "raw",
      "metadata": {
        "vscode": {
          "languageId": "raw"
        }
      },
      "source": [
        "## 2. Pengujian TensorFlow Serving Langsung\n"
      ]
    },
    {
      "cell_type": "code",
      "execution_count": null,
      "metadata": {},
      "outputs": [],
      "source": [
        "# Fungsi untuk melakukan preprocessing data\n",
        "def preprocess_data(data):\n",
        "    # Contoh data yang sudah dinormalisasi (simulasi)\n",
        "    processed_data = {}\n",
        "    \n",
        "    # Proses fitur numerik\n",
        "    for feature in NUMERIC_FEATURES:\n",
        "        processed_data[transformed_name(feature)] = [float(data[feature])]\n",
        "    \n",
        "    # Proses Acidity\n",
        "    processed_data[transformed_name('Acidity')] = [float(data['Acidity'])]\n",
        "    \n",
        "    return processed_data\n",
        "\n",
        "# Fungsi untuk melakukan prediksi langsung ke TensorFlow Serving\n",
        "def predict_quality_tf_serving(data):\n",
        "    print(\"=== PENGUJIAN LANGSUNG KE TENSORFLOW SERVING ===\")\n",
        "    \n",
        "    # Step 1: Preprocessing data\n",
        "    print(\"\\n1. Preprocessing Data:\")\n",
        "    print(f\"Data mentah: {data}\")\n",
        "    processed_data = preprocess_data(data)\n",
        "    print(f\"Data setelah preprocessing: {processed_data}\")\n",
        "    \n",
        "    # Step 2: Format data untuk TensorFlow Serving\n",
        "    print(\"\\n2. Memformat Data untuk TensorFlow Serving:\")\n",
        "    instances = {\n",
        "        'instances': [processed_data]\n",
        "    }\n",
        "    print(f\"Request JSON: {json.dumps(instances, indent=2)}\")\n",
        "    \n",
        "    # Step 3: Kirim request ke server\n",
        "    print(\"\\n3. Mengirim Request ke TensorFlow Serving:\")\n",
        "    print(f\"URL: {TF_SERVING_URL}\")\n",
        "    response = requests.post(TF_SERVING_URL, json=instances)\n",
        "    print(f\"Status Code: {response.status_code}\")\n",
        "    \n",
        "    # Step 4: Parse response\n",
        "    print(\"\\n4. Menerima dan Parsing Response:\")\n",
        "    print(f\"Response Raw: {response.text}\")\n",
        "    \n",
        "    try:\n",
        "        result = json.loads(response.text)\n",
        "        print(f\"Response JSON: {json.dumps(result, indent=2)}\")\n",
        "        prediction = result['predictions'][0][0]\n",
        "        print(f\"Nilai Prediksi: {prediction}\")\n",
        "        \n",
        "        # Step 5: Konversi probability ke label\n",
        "        print(\"\\n5. Interpretasi Hasil:\")\n",
        "        label = \"good\" if prediction > 0.5 else \"bad\"\n",
        "        probability = prediction if prediction > 0.5 else 1 - prediction\n",
        "        print(f\"Label: {label} (Probability: {probability:.4f})\")\n",
        "        \n",
        "        return {\n",
        "            \"label\": label,\n",
        "            \"probability\": probability,\n",
        "            \"raw_prediction\": prediction\n",
        "        }\n",
        "    except Exception as e:\n",
        "        print(f\"Error: {e}\")\n",
        "        print(\"Note: Make sure TensorFlow Serving is running with the correct model.\")\n",
        "        return None\n"
      ]
    },
    {
      "cell_type": "code",
      "execution_count": null,
      "metadata": {},
      "outputs": [],
      "source": [
        "# Uji dengan data apel berkualitas baik menggunakan TensorFlow Serving langsung\n",
        "print(\"\\n==== TEST APEL BERKUALITAS BAIK (TF SERVING) ====\\n\")\n",
        "tf_good_result = predict_quality_tf_serving(good_apple)\n"
      ]
    },
    {
      "cell_type": "code",
      "execution_count": null,
      "metadata": {},
      "outputs": [],
      "source": [
        "# Uji dengan data apel berkualitas buruk menggunakan TensorFlow Serving langsung\n",
        "print(\"\\n==== TEST APEL BERKUALITAS BURUK (TF SERVING) ====\\n\")\n",
        "tf_bad_result = predict_quality_tf_serving(bad_apple)\n"
      ]
    },
    {
      "cell_type": "raw",
      "metadata": {
        "vscode": {
          "languageId": "raw"
        }
      },
      "source": [
        "## 3. Ringkasan Hasil Pengujian\n"
      ]
    },
    {
      "cell_type": "code",
      "execution_count": null,
      "metadata": {},
      "outputs": [],
      "source": [
        "# Ringkasan hasil\n",
        "print(\"=== RINGKASAN HASIL PENGUJIAN ===\")\n",
        "\n",
        "print(\"\\nHasil FastAPI Endpoint:\")\n",
        "print(f\"- Apel Berkualitas Baik: {good_result['prediction'] if good_result else 'Error'} (Probability: {good_result['probability']:.4f} if good_result else 'N/A')\")\n",
        "print(f\"- Apel Berkualitas Buruk: {bad_result['prediction'] if bad_result else 'Error'} (Probability: {bad_result['probability']:.4f} if bad_result else 'N/A')\")\n",
        "\n",
        "print(\"\\nHasil TensorFlow Serving:\")\n",
        "print(f\"- Apel Berkualitas Baik: {tf_good_result['label'] if tf_good_result else 'Error'} (Probability: {tf_good_result['probability']:.4f} if tf_good_result else 'N/A')\")\n",
        "print(f\"- Apel Berkualitas Buruk: {tf_bad_result['label'] if tf_bad_result else 'Error'} (Probability: {tf_bad_result['probability']:.4f} if tf_bad_result else 'N/A')\")\n",
        "\n",
        "print(\"\\n=== KESIMPULAN ===\")\n",
        "print(\"Kedua pendekatan (FastAPI dan TensorFlow Serving langsung) menunjukkan hasil yang konsisten\")\n",
        "print(\"Model berhasil di-deploy dan dapat diakses melalui web interface maupun API endpoint\")\n"
      ]
    },
    {
      "cell_type": "code",
      "execution_count": null,
      "metadata": {},
      "outputs": [
        {
          "name": "stdout",
          "output_type": "stream",
          "text": [
            "\n",
            "=== MULAI PROSES TESTING ===\n",
            "Menjalankan prediksi untuk sampel apel...\n",
            "=== PROSES PREDIKSI KUALITAS APEL ===\n",
            "\n",
            "1. Preprocessing Data:\n",
            "Data mentah: {'A_id': 1, 'Size': 0.6, 'Weight': 0.6, 'Sweetness': 0.7, 'Crunchiness': 0.8, 'Juiciness': 0.9, 'Ripeness': 0.7, 'Acidity': 0.5}\n",
            "Data setelah preprocessing: {'A_id_xf': [1.0], 'Size_xf': [0.6], 'Weight_xf': [0.6], 'Sweetness_xf': [0.7], 'Crunchiness_xf': [0.8], 'Juiciness_xf': [0.9], 'Ripeness_xf': [0.7], 'Acidity_xf': [0.5]}\n",
            "\n",
            "2. Memformat Data untuk TensorFlow Serving:\n",
            "Request JSON: {\n",
            "  \"instances\": [\n",
            "    {\n",
            "      \"A_id_xf\": [\n",
            "        1.0\n",
            "      ],\n",
            "      \"Size_xf\": [\n",
            "        0.6\n",
            "      ],\n",
            "      \"Weight_xf\": [\n",
            "        0.6\n",
            "      ],\n",
            "      \"Sweetness_xf\": [\n",
            "        0.7\n",
            "      ],\n",
            "      \"Crunchiness_xf\": [\n",
            "        0.8\n",
            "      ],\n",
            "      \"Juiciness_xf\": [\n",
            "        0.9\n",
            "      ],\n",
            "      \"Ripeness_xf\": [\n",
            "        0.7\n",
            "      ],\n",
            "      \"Acidity_xf\": [\n",
            "        0.5\n",
            "      ]\n",
            "    }\n",
            "  ]\n",
            "}\n",
            "\n",
            "3. Mengirim Request ke TensorFlow Serving:\n",
            "URL: https://apple-model.up.railway.app/v1/models/apple_quality_model:predict\n",
            "Status Code: 502\n",
            "\n",
            "4. Menerima dan Parsing Response:\n",
            "Response Raw: {\"status\":\"error\",\"code\":502,\"message\":\"Application failed to respond\",\"request_id\":\"I8aIHzliQ8uxOYL0DcO5xA\"}\n",
            "Response JSON: {\n",
            "  \"status\": \"error\",\n",
            "  \"code\": 502,\n",
            "  \"message\": \"Application failed to respond\",\n",
            "  \"request_id\": \"I8aIHzliQ8uxOYL0DcO5xA\"\n",
            "}\n",
            "Error during prediction: 'predictions'\n",
            "Note: Make sure TensorFlow Serving is running with the correct model.\n",
            "Run the following command to start TensorFlow Serving:\n",
            "docker build -t apple-quality-serving . && docker run -p 8501:8501 -p 8500:8500 apple-quality-serving\n"
          ]
        }
      ],
      "source": [
        "import json\n",
        "import requests\n",
        "import numpy as np\n",
        "import pandas as pd\n",
        "from apple_transform import NUMERIC_FEATURES, transformed_name\n",
        "\n",
        "# URL untuk Web App API (FastAPI endpoint)\n",
        "API_URL = 'https://apple-quality-model-kstarid.up.railway.app/predict/'\n",
        "\n",
        "# URL untuk TensorFlow Serving langsung\n",
        "TF_SERVING_URL = 'https://apple-quality-model-kstarid.up.railway.app/v1/models/apple_quality_model:predict'"
      ]
    }
  ],
  "metadata": {
    "kernelspec": {
      "display_name": ".venv",
      "language": "python",
      "name": "python3"
    },
    "language_info": {
      "codemirror_mode": {
        "name": "ipython",
        "version": 3
      },
      "file_extension": ".py",
      "mimetype": "text/x-python",
      "name": "python",
      "nbconvert_exporter": "python",
      "pygments_lexer": "ipython3",
      "version": "3.9.13"
    }
  },
  "nbformat": 4,
  "nbformat_minor": 2
}
